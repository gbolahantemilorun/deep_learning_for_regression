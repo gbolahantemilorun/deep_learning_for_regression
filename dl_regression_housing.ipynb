{
 "cells": [
  {
   "cell_type": "markdown",
   "metadata": {
    "id": "R45mCukB7upF"
   },
   "source": [
    "## Import required packages"
   ]
  },
  {
   "cell_type": "code",
   "execution_count": 1,
   "metadata": {
    "id": "wDRAjjuW6nHp"
   },
   "outputs": [],
   "source": [
    "import pandas as pd\n",
    "import numpy as np\n",
    "from tensorflow.keras import Sequential\n",
    "from tensorflow.keras.layers import Dense, Dropout\n",
    "from sklearn.metrics import mean_squared_error, mean_absolute_error\n",
    "from sklearn.model_selection import train_test_split\n",
    "from tensorflow.keras.optimizers import Adam\n",
    "from sklearn.preprocessing import StandardScaler, MinMaxScaler\n",
    "from tensorflow.keras.callbacks import ModelCheckpoint"
   ]
  },
  {
   "cell_type": "markdown",
   "metadata": {
    "id": "dt8cVmVx8QyX"
   },
   "source": [
    "### Load dataset"
   ]
  },
  {
   "cell_type": "code",
   "execution_count": 2,
   "metadata": {
    "id": "sC--jBfQ8SdR"
   },
   "outputs": [],
   "source": [
    "# load the housing dataset\n",
    "df = pd.read_csv(\"USA_Housing.csv\")\n"
   ]
  },
  {
   "cell_type": "code",
   "execution_count": 4,
   "metadata": {
    "colab": {
     "base_uri": "https://localhost:8080/",
     "height": 319
    },
    "id": "NL6pgQ5U8Zh8",
    "outputId": "b7be7626-7cc0-433d-d4d3-ffbfde742d24"
   },
   "outputs": [
    {
     "data": {
      "text/html": [
       "<div>\n",
       "<style scoped>\n",
       "    .dataframe tbody tr th:only-of-type {\n",
       "        vertical-align: middle;\n",
       "    }\n",
       "\n",
       "    .dataframe tbody tr th {\n",
       "        vertical-align: top;\n",
       "    }\n",
       "\n",
       "    .dataframe thead th {\n",
       "        text-align: right;\n",
       "    }\n",
       "</style>\n",
       "<table border=\"1\" class=\"dataframe\">\n",
       "  <thead>\n",
       "    <tr style=\"text-align: right;\">\n",
       "      <th></th>\n",
       "      <th>Avg. Area Income</th>\n",
       "      <th>Avg. Area House Age</th>\n",
       "      <th>Avg. Area Number of Rooms</th>\n",
       "      <th>Avg. Area Number of Bedrooms</th>\n",
       "      <th>Area Population</th>\n",
       "      <th>Price</th>\n",
       "      <th>Address</th>\n",
       "    </tr>\n",
       "  </thead>\n",
       "  <tbody>\n",
       "    <tr>\n",
       "      <th>356</th>\n",
       "      <td>62431.938100</td>\n",
       "      <td>6.798994</td>\n",
       "      <td>8.599555</td>\n",
       "      <td>4.48</td>\n",
       "      <td>44115.983419</td>\n",
       "      <td>1.523915e+06</td>\n",
       "      <td>9249 Robert Cliffs\\nNew Susan, AR 48038</td>\n",
       "    </tr>\n",
       "    <tr>\n",
       "      <th>580</th>\n",
       "      <td>61644.173612</td>\n",
       "      <td>7.163657</td>\n",
       "      <td>7.751754</td>\n",
       "      <td>5.17</td>\n",
       "      <td>27809.135077</td>\n",
       "      <td>1.384140e+06</td>\n",
       "      <td>PSC 9115, Box 6211\\nAPO AA 90999-6054</td>\n",
       "    </tr>\n",
       "    <tr>\n",
       "      <th>425</th>\n",
       "      <td>51718.354612</td>\n",
       "      <td>7.509044</td>\n",
       "      <td>7.109312</td>\n",
       "      <td>3.11</td>\n",
       "      <td>49639.173237</td>\n",
       "      <td>1.285924e+06</td>\n",
       "      <td>855 Carol Burgs\\nFrazierchester, MS 46812-0037</td>\n",
       "    </tr>\n",
       "    <tr>\n",
       "      <th>780</th>\n",
       "      <td>74490.639243</td>\n",
       "      <td>5.408653</td>\n",
       "      <td>8.457362</td>\n",
       "      <td>4.10</td>\n",
       "      <td>35563.456132</td>\n",
       "      <td>1.358214e+06</td>\n",
       "      <td>238 Julie Parks\\nChristopherton, NH 95146</td>\n",
       "    </tr>\n",
       "    <tr>\n",
       "      <th>3086</th>\n",
       "      <td>50167.486279</td>\n",
       "      <td>7.559816</td>\n",
       "      <td>7.358230</td>\n",
       "      <td>3.08</td>\n",
       "      <td>34292.306943</td>\n",
       "      <td>1.058356e+06</td>\n",
       "      <td>5575 Lori Valley Suite 277\\nEast Laurenshire, ...</td>\n",
       "    </tr>\n",
       "  </tbody>\n",
       "</table>\n",
       "</div>"
      ],
      "text/plain": [
       "      Avg. Area Income  Avg. Area House Age  Avg. Area Number of Rooms  \\\n",
       "356       62431.938100             6.798994                   8.599555   \n",
       "580       61644.173612             7.163657                   7.751754   \n",
       "425       51718.354612             7.509044                   7.109312   \n",
       "780       74490.639243             5.408653                   8.457362   \n",
       "3086      50167.486279             7.559816                   7.358230   \n",
       "\n",
       "      Avg. Area Number of Bedrooms  Area Population         Price  \\\n",
       "356                           4.48     44115.983419  1.523915e+06   \n",
       "580                           5.17     27809.135077  1.384140e+06   \n",
       "425                           3.11     49639.173237  1.285924e+06   \n",
       "780                           4.10     35563.456132  1.358214e+06   \n",
       "3086                          3.08     34292.306943  1.058356e+06   \n",
       "\n",
       "                                                Address  \n",
       "356             9249 Robert Cliffs\\nNew Susan, AR 48038  \n",
       "580               PSC 9115, Box 6211\\nAPO AA 90999-6054  \n",
       "425      855 Carol Burgs\\nFrazierchester, MS 46812-0037  \n",
       "780           238 Julie Parks\\nChristopherton, NH 95146  \n",
       "3086  5575 Lori Valley Suite 277\\nEast Laurenshire, ...  "
      ]
     },
     "execution_count": 4,
     "metadata": {},
     "output_type": "execute_result"
    }
   ],
   "source": [
    "# check few rows of the data\n",
    "\n",
    "df.sample(5)"
   ]
  },
  {
   "cell_type": "code",
   "execution_count": 5,
   "metadata": {},
   "outputs": [
    {
     "data": {
      "text/plain": [
       "(5000, 7)"
      ]
     },
     "execution_count": 5,
     "metadata": {},
     "output_type": "execute_result"
    }
   ],
   "source": [
    "# check the dimension of the data\n",
    "df.shape"
   ]
  },
  {
   "cell_type": "code",
   "execution_count": 6,
   "metadata": {
    "colab": {
     "base_uri": "https://localhost:8080/"
    },
    "id": "I0oHONj68aqc",
    "outputId": "e5682c53-f057-4b8e-feae-d7347c14f043"
   },
   "outputs": [
    {
     "data": {
      "text/plain": [
       "Avg. Area Income                0\n",
       "Avg. Area House Age             0\n",
       "Avg. Area Number of Rooms       0\n",
       "Avg. Area Number of Bedrooms    0\n",
       "Area Population                 0\n",
       "Price                           0\n",
       "Address                         0\n",
       "dtype: int64"
      ]
     },
     "execution_count": 6,
     "metadata": {},
     "output_type": "execute_result"
    }
   ],
   "source": [
    "# check for missing values\n",
    "\n",
    "df.isnull().sum()"
   ]
  },
  {
   "cell_type": "code",
   "execution_count": 7,
   "metadata": {},
   "outputs": [
    {
     "name": "stdout",
     "output_type": "stream",
     "text": [
      "<class 'pandas.core.frame.DataFrame'>\n",
      "RangeIndex: 5000 entries, 0 to 4999\n",
      "Data columns (total 7 columns):\n",
      " #   Column                        Non-Null Count  Dtype  \n",
      "---  ------                        --------------  -----  \n",
      " 0   Avg. Area Income              5000 non-null   float64\n",
      " 1   Avg. Area House Age           5000 non-null   float64\n",
      " 2   Avg. Area Number of Rooms     5000 non-null   float64\n",
      " 3   Avg. Area Number of Bedrooms  5000 non-null   float64\n",
      " 4   Area Population               5000 non-null   float64\n",
      " 5   Price                         5000 non-null   float64\n",
      " 6   Address                       5000 non-null   object \n",
      "dtypes: float64(6), object(1)\n",
      "memory usage: 273.6+ KB\n"
     ]
    }
   ],
   "source": [
    "df.info()"
   ]
  },
  {
   "cell_type": "code",
   "execution_count": 21,
   "metadata": {
    "id": "H0wz3cSn8mCh"
   },
   "outputs": [],
   "source": [
    "# select the features and target\n",
    "X = df.drop([\"Address\", \"Price\"], axis = 1)\n",
    "y = df[\"Price\"]\n"
   ]
  },
  {
   "cell_type": "code",
   "execution_count": 22,
   "metadata": {
    "id": "sYWvAIkv8ytw"
   },
   "outputs": [],
   "source": [
    "# split the dataset into training and test sets\n",
    "x_train, x_test, y_train, y_test = train_test_split(X, y, test_size = 0.2, random_state = 0)\n"
   ]
  },
  {
   "cell_type": "markdown",
   "metadata": {
    "id": "MKe-2IMWQGwh"
   },
   "source": [
    "### Normalize the data"
   ]
  },
  {
   "cell_type": "code",
   "execution_count": 29,
   "metadata": {
    "id": "eWBenIT2QJi6"
   },
   "outputs": [],
   "source": [
    "scaler = StandardScaler()\n",
    "x_train_sd = scaler.fit_transform(x_train)\n",
    "x_test_sd = scaler.transform(x_test)\n"
   ]
  },
  {
   "cell_type": "markdown",
   "metadata": {
    "id": "IC0TBmyw9g2L"
   },
   "source": [
    "## Model Architecture\n"
   ]
  },
  {
   "cell_type": "code",
   "execution_count": 30,
   "metadata": {
    "colab": {
     "base_uri": "https://localhost:8080/"
    },
    "id": "cwzwA4tXVIuP",
    "outputId": "30d4fac3-269d-4ee8-d952-8c69b18a24be"
   },
   "outputs": [],
   "source": [
    "model = Sequential()\n",
    "# Input Layer\n",
    "model.add(Dense(128, kernel_initializer=\"normal\", input_dim = x_train.shape[1], activation = \"relu\"))\n",
    "\n",
    "# Hidden Layers\n",
    "model.add(Dense(256, kernel_initializer=\"normal\", activation = \"relu\"))\n",
    "model.add(Dense(256, kernel_initializer=\"normal\", activation = \"relu\"))\n",
    "\n",
    "# Output Layer\n",
    "model.add(Dense(1, kernel_initializer=\"normal\", activation = \"linear\"))"
   ]
  },
  {
   "cell_type": "code",
   "execution_count": 31,
   "metadata": {},
   "outputs": [
    {
     "name": "stdout",
     "output_type": "stream",
     "text": [
      "Model: \"sequential_2\"\n",
      "_________________________________________________________________\n",
      " Layer (type)                Output Shape              Param #   \n",
      "=================================================================\n",
      " dense_8 (Dense)             (None, 128)               768       \n",
      "                                                                 \n",
      " dense_9 (Dense)             (None, 256)               33024     \n",
      "                                                                 \n",
      " dense_10 (Dense)            (None, 256)               65792     \n",
      "                                                                 \n",
      " dense_11 (Dense)            (None, 1)                 257       \n",
      "                                                                 \n",
      "=================================================================\n",
      "Total params: 99,841\n",
      "Trainable params: 99,841\n",
      "Non-trainable params: 0\n",
      "_________________________________________________________________\n"
     ]
    }
   ],
   "source": [
    "model.summary()"
   ]
  },
  {
   "cell_type": "code",
   "execution_count": 38,
   "metadata": {
    "id": "eg-nDrG9VqZa"
   },
   "outputs": [],
   "source": [
    "# create a Model Checkpoint\n",
    "checkpoint_name = \"{epoch:03d}--{val_loss:.3f}.hdf5\"\n",
    "#checkpoint = ModelCheckpoint(os.path.join(\"./Models/\", checkpoint_name), verbose = 1, save_best_only = True)\n",
    "checkpoint = ModelCheckpoint(\"housing.hdf5\", verbose = 1, save_best_only = True)\n",
    "callbacks_list = [checkpoint]\n"
   ]
  },
  {
   "cell_type": "code",
   "execution_count": 39,
   "metadata": {},
   "outputs": [],
   "source": [
    "# Compile the model\n",
    "#adam = Adam()\n",
    "model.compile(optimizer=\"adam\", loss = \"mse\", metrics = [\"mean_squared_error\"])"
   ]
  },
  {
   "cell_type": "code",
   "execution_count": 41,
   "metadata": {
    "colab": {
     "base_uri": "https://localhost:8080/"
    },
    "id": "ugUeRq5rWcN9",
    "outputId": "3c9f7cc9-bdd6-4183-e9c3-ddb71cfc75b2"
   },
   "outputs": [
    {
     "name": "stdout",
     "output_type": "stream",
     "text": [
      "Epoch 1/5\n",
      "32/50 [==================>...........] - ETA: 0s - loss: 1643797151744.0000 - mean_squared_error: 1643797151744.0000 \n",
      "Epoch 1: val_loss improved from inf to 1645057671168.00000, saving model to housing.hdf5\n",
      "50/50 [==============================] - 1s 6ms/step - loss: 1636567613440.0000 - mean_squared_error: 1636567613440.0000 - val_loss: 1645057671168.0000 - val_mean_squared_error: 1645057671168.0000\n",
      "Epoch 2/5\n",
      "31/50 [=================>............] - ETA: 0s - loss: 1618946686976.0000 - mean_squared_error: 1618946686976.0000\n",
      "Epoch 2: val_loss improved from 1645057671168.00000 to 1610540384256.00000, saving model to housing.hdf5\n",
      "50/50 [==============================] - 0s 3ms/step - loss: 1620009156608.0000 - mean_squared_error: 1620009156608.0000 - val_loss: 1610540384256.0000 - val_mean_squared_error: 1610540384256.0000\n",
      "Epoch 3/5\n",
      "31/50 [=================>............] - ETA: 0s - loss: 1564183363584.0000 - mean_squared_error: 1564183363584.0000\n",
      "Epoch 3: val_loss improved from 1610540384256.00000 to 1484208209920.00000, saving model to housing.hdf5\n",
      "50/50 [==============================] - 0s 3ms/step - loss: 1549514440704.0000 - mean_squared_error: 1549514440704.0000 - val_loss: 1484208209920.0000 - val_mean_squared_error: 1484208209920.0000\n",
      "Epoch 4/5\n",
      "30/50 [=================>............] - ETA: 0s - loss: 1413934219264.0000 - mean_squared_error: 1413934219264.0000\n",
      "Epoch 4: val_loss improved from 1484208209920.00000 to 1171528876032.00000, saving model to housing.hdf5\n",
      "50/50 [==============================] - 0s 3ms/step - loss: 1344200638464.0000 - mean_squared_error: 1344200638464.0000 - val_loss: 1171528876032.0000 - val_mean_squared_error: 1171528876032.0000\n",
      "Epoch 5/5\n",
      "28/50 [===============>..............] - ETA: 0s - loss: 1057119207424.0000 - mean_squared_error: 1057119207424.0000\n",
      "Epoch 5: val_loss improved from 1171528876032.00000 to 664365694976.00000, saving model to housing.hdf5\n",
      "50/50 [==============================] - 0s 3ms/step - loss: 937666281472.0000 - mean_squared_error: 937666281472.0000 - val_loss: 664365694976.0000 - val_mean_squared_error: 664365694976.0000\n"
     ]
    }
   ],
   "source": [
    "# train the model\n",
    "hist = model.fit(x_train_sd, y_train, batch_size=64, epochs = 5, callbacks = callbacks_list, validation_split = 0.2)"
   ]
  },
  {
   "cell_type": "code",
   "execution_count": 14,
   "metadata": {
    "id": "WRyM1mG9C03w"
   },
   "outputs": [],
   "source": []
  }
 ],
 "metadata": {
  "colab": {
   "provenance": []
  },
  "kernelspec": {
   "display_name": "Python 3 (ipykernel)",
   "language": "python",
   "name": "python3"
  },
  "language_info": {
   "codemirror_mode": {
    "name": "ipython",
    "version": 3
   },
   "file_extension": ".py",
   "mimetype": "text/x-python",
   "name": "python",
   "nbconvert_exporter": "python",
   "pygments_lexer": "ipython3",
   "version": "3.11.1"
  }
 },
 "nbformat": 4,
 "nbformat_minor": 1
}
